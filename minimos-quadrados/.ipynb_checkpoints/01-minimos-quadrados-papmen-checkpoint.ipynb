{
 "cells": [
  {
   "cell_type": "markdown",
   "metadata": {},
   "source": [
    "# Aproximações Por Mínimos Quadrados\n",
    "\n",
    "Aula dada no [PAPMEN](https://impa.br/ensino/programas-de-formacao/linha-do-tempo-dos-cursos/papmem-janeiro-de-2021/) Janeiro de 2021.\n",
    "\n",
    "* [Vídeo da Aula](https://www.youtube.com/watch?v=eveGRiyDAlI)\n",
    "\n",
    "* [Material](https://impa.br/wp-content/uploads/2021/01/Antonio-Branco-Aproximacao-por-Minimos-Quadrados.pdf)"
   ]
  },
  {
   "cell_type": "markdown",
   "metadata": {},
   "source": [
    "## Lei de Hooke\n",
    "\n",
    "O comprimento $C$ de uma mola em função de uma força $F$ aplicada sobre ela é dado por:\n",
    "\n",
    "$$C = C_0 + kF$$\n",
    "\n",
    "Onde $C_0$ é o comprimento natural da mola e $k$ é a constante de elasticidade da mesma.\n",
    "\n",
    "A tabela a seguir mostra medidas obtidas empiricamente para uma determinada mola:\n",
    "\n",
    "T       | Medida 1 | Medida 2 | Medida 3\n",
    "--------|---------------------------\n",
    "$F$ (gf)| 10       | 20       | 30\n",
    "$C$ (cm)| 13.3     | 3.8      | 15.5\n",
    "\n",
    "1. Qual o comprimento natural da mola?\n",
    "\n",
    "2. Qual o comprimento da mola quando aplicarmos sobre ela uma força de 40 gf?"
   ]
  },
  {
   "cell_type": "markdown",
   "metadata": {},
   "source": [
    "## Exerícios para desenvolvimento da teoria\n",
    "\n",
    "1. Dados os pontos $(1,2)$, $(2,3)$ e $(4,3)$, encontrar por mínimos quadrados uma reta que melhor se ajuste a esses pontos:"
   ]
  },
  {
   "cell_type": "markdown",
   "metadata": {},
   "source": [
    "**Solução** Dados os três pontos $(1,2)$, $(2,3)$ e $(4,3)$, percebemos que os mesmos não estão em uma mesma reta (o link a seguir mostra isso no GeoGebra):\n",
    "\n",
    "[Geogebra](https://www.geogebra.org/m/yvjzmqch)\n",
    "\n",
    "Vamos fazer a plotagem dos pontos usando também Python."
   ]
  },
  {
   "cell_type": "code",
   "execution_count": 1,
   "metadata": {},
   "outputs": [
    {
     "data": {
      "image/png": "[encoded data removed]",
      "text/plain": [
       "<Figure size 432x288 with 1 Axes>"
      ]
     },
     "metadata": {
      "needs_background": "light"
     },
     "output_type": "display_data"
    }
   ],
   "source": [
    "# Importando o pyplot: biblioteca python para plotagem de gráficos\n",
    "from matplotlib import pyplot as plt\n",
    "\n",
    "# Eixo x, Eixo y\n",
    "plt.plot([1,2,4],[2,3,3],'o') # O argumento 'o' plota os pontos\n",
    "plt.plot([1,4],[2,3]) # Segmento de reta de extremos (1,2) e (4,3)\n",
    "plt.axis([0, 5, 0, 4]) # [xmin, xmax, ymin, ymax]\n",
    "plt.show()"
   ]
  },
  {
   "cell_type": "markdown",
   "metadata": {},
   "source": [
    "Queremos ajustar uma reta $y = h + mt$ aos três pontos, de maneira que:\n",
    "$$\n",
    "\\left\\{ \\begin{matrix} h + m = 2 \\\\ h + 2m = 3 \\\\ h + 4m = 3 \\end{matrix}  \\right.\n",
    "\\Rightarrow\n",
    "\\left[ \\begin{matrix} 1 & 1 \\\\ 1 & 2 \\\\ 1 & 4 \\end{matrix}  \\right]\n",
    "\\times\n",
    "\\left[ \\begin{matrix} h \\\\ m \\end{matrix}  \\right]\n",
    "=\n",
    "\\left[ \\begin{matrix} 2 \\\\ 3 \\\\ 3 \\end{matrix}  \\right]\n",
    "$$"
   ]
  },
  {
   "cell_type": "markdown",
   "metadata": {},
   "source": [
    "O sistema anterior é impossível e sua representação matricial, é da forma\n",
    "$$\n",
    "Ax = b\n",
    "$$"
   ]
  },
  {
   "cell_type": "markdown",
   "metadata": {},
   "source": [
    "Uma reta $y = h + mt$ ajustada aos três pontos conterá um erro para cada um dos pontos:\n",
    "$$\n",
    "\\left\\{ \\begin{matrix} \\varepsilon_1 = 2 - (h + m) \\\\ \\varepsilon_2 = 3 - (h + 2m) \\\\ \\varepsilon_3 = 3 - (h + 4m) \\end{matrix}  \\right.\n",
    "$$"
   ]
  },
  {
   "cell_type": "markdown",
   "metadata": {},
   "source": [
    "Como queremos o melhor ajuste para reta, e os erros $\\varepsilon$ podem assumir valores negativos e positivos, uma boa maneira de fazer esse ajuste seria minimizar:\n",
    "\n",
    "$$\\varepsilon_1^2 + \\varepsilon_2^2 + \\varepsilon_3^2$$"
   ]
  },
  {
   "cell_type": "markdown",
   "metadata": {},
   "source": [
    "As igualdades que expressam os erros podem ser escritas da seguinte forma\n",
    "\n",
    "$$\n",
    "\\left[ \\begin{matrix} \\varepsilon_1 \\\\ \\varepsilon_2 \\\\ \\varepsilon_3 \\end{matrix} \\right]\n",
    "=\n",
    "\\left[ \\begin{matrix} 2 \\\\ 3 \\\\ 3 \\end{matrix} \\right]\n",
    "-\n",
    "\\left[ \\begin{matrix} 1 & 1 \\\\ 1 & 2 \\\\ 1 & 4 \\end{matrix}  \\right]\n",
    "\\times\n",
    "\\left[ \\begin{matrix} h \\\\ m \\end{matrix}  \\right]\n",
    "$$\n",
    "\n",
    "Que podemos representar $ \\varepsilon = b - Ax$."
   ]
  },
  {
   "cell_type": "markdown",
   "metadata": {},
   "source": [
    "Assim o que queremos miniminar é o quadrado  da norma do vetor $\\varepsilon$: $\\| \\varepsilon \\|^2 = \\varepsilon_1^2 + \\varepsilon_2^2 + \\varepsilon_3^2$.\n",
    "\n",
    "Dessa forma nosso problema consiste em achar um vetor $\\bar{x}  = \\left[ \\begin{matrix} \\bar{h} \\\\ \\bar{m} \\end{matrix} \\right]$, tal que:\n",
    "\n",
    "$$\n",
    "\\| \\varepsilon \\|^2 = \\| b - A\\bar{x} \\|^2\n",
    "$$\n",
    "\n",
    "seja mínimo.\n"
   ]
  },
  {
   "cell_type": "markdown",
   "metadata": {},
   "source": [
    "A igualdade $Ax =  b$, pode ser representada da seguinte forma:\n",
    "$$\n",
    "Ax\n",
    "=\n",
    "\\left[ \\begin{matrix} 1 \\\\ 1 \\\\ 1 \\end{matrix} \\right] h\n",
    "+\n",
    "\\left[ \\begin{matrix} 1 \\\\ 2 \\\\ 4 \\end{matrix} \\right] m\n",
    "= \n",
    "\\left[ \\begin{matrix} 2 \\\\ 3 \\\\ 3 \\end{matrix} \\right]\n",
    "= b\n",
    "$$"
   ]
  },
  {
   "cell_type": "markdown",
   "metadata": {},
   "source": [
    "Para $h, m \\in \\mathbb{R}$, $Ax$ é um plano de $\\mathbb{R}^3$, E como o sistema inicial é impossível, temos $b \\notin Ax$.\n",
    "\n",
    "O vetor $A\\bar{x}$ que mais se aproxima $b$ é a projeção do vetor $b$ sobre o plano $Ax$. E portanto o vetor $\\varepsilon = b - A\\bar{x}$, que é o vetor erro de menor comprimento tem que ser perpendicular ao plano, ou seja\n",
    "\n",
    "$$\n",
    "\\varepsilon  = b - A\\bar{x} \\perp Ax,\\forall x \\in \\mathbb{R}^2\n",
    "$$"
   ]
  },
  {
   "cell_type": "markdown",
   "metadata": {},
   "source": [
    "Assim temos $(Ax) \\cdot (b - A\\bar{x}) = 0, \\forall x \\in \\mathbb{R}^2$, usando a notação matricial, temos:\n",
    "$$(Ax)^T(b-A\\bar{x}) = 0, 0^T \\in \\mathbb{R}^2, \\forall x \\in \\mathbb{R}^2$$\n",
    "$$x^TA^T(b-A\\bar{x}) = 0, 0^T \\in \\mathbb{R}^2, \\forall x \\in \\mathbb{R}^2$$\n",
    "$$x \\cdot (A^T(b-A\\bar{x})) = 0, \\forall x \\in \\mathbb{R}^2$$"
   ]
  },
  {
   "cell_type": "markdown",
   "metadata": {},
   "source": [
    "Como $A^T(b - A\\bar{x})$ tem que ser ortogonal a todos os vetores de $\\mathbb{R}^2$, temos $A^T(b - A\\bar{x}) = 0$, e portanto\n",
    "$$\n",
    "A^TA\\bar{x} = A^Tb\n",
    "$$\n",
    "$$\n",
    "\\bar{x} = (A^TA)^{-1}(A^Tb)\n",
    "$$\n",
    "\n",
    "Onde\n",
    "$$\n",
    "A = \\left[ \\begin{matrix} 1 & 1 \\\\ 1 & 2 \\\\ 1 & 4 \\end{matrix}  \\right]\n",
    "\\mbox{ e }\n",
    "b =  \\left[ \\begin{matrix} 2 \\\\ 3 \\\\ 3 \\end{matrix}  \\right]\n",
    "$$"
   ]
  },
  {
   "cell_type": "code",
   "execution_count": 2,
   "metadata": {},
   "outputs": [],
   "source": [
    "# Vamos usar python para fazermos as operações matriciais\n",
    "\n",
    "# Importanto a biblioteca Python para matemática\n",
    "import numpy as np"
   ]
  },
  {
   "cell_type": "code",
   "execution_count": 3,
   "metadata": {},
   "outputs": [
    {
     "data": {
      "text/plain": [
       "(array([[1., 1.],\n",
       "        [1., 2.],\n",
       "        [1., 4.]]),\n",
       " array([[2.],\n",
       "        [3.],\n",
       "        [3.]]))"
      ]
     },
     "execution_count": 3,
     "metadata": {},
     "output_type": "execute_result"
    }
   ],
   "source": [
    "# Criando as matrizes\n",
    "A = np.array([[1.,1.],[1.,2.],[1.,4.]])\n",
    "b = np.array([[2.],[3.],[3.]])\n",
    "\n",
    "A, b"
   ]
  },
  {
   "cell_type": "code",
   "execution_count": 4,
   "metadata": {},
   "outputs": [],
   "source": [
    "M = A.T\n",
    "M = M.dot(A)\n",
    "M = np.linalg.inv(M)"
   ]
  },
  {
   "cell_type": "code",
   "execution_count": 5,
   "metadata": {},
   "outputs": [],
   "source": [
    "N = A.T\n",
    "N = N.dot(b)"
   ]
  },
  {
   "cell_type": "code",
   "execution_count": 6,
   "metadata": {},
   "outputs": [
    {
     "data": {
      "text/plain": [
       "array([[2.        ],\n",
       "       [0.28571429]])"
      ]
     },
     "execution_count": 6,
     "metadata": {},
     "output_type": "execute_result"
    }
   ],
   "source": [
    "x = M.dot(N)\n",
    "x"
   ]
  },
  {
   "cell_type": "markdown",
   "metadata": {},
   "source": [
    "Assim a reta que melhor aproxima os pontos é a reta $y = 2 + \\frac{2}{7}t$.\n",
    "\n",
    "No [Geogebra](https://www.geogebra.org/m/c95vfeah), uma visualização da reta ajustada aos pontos."
   ]
  },
  {
   "cell_type": "code",
   "execution_count": 7,
   "metadata": {},
   "outputs": [
    {
     "data": {
      "image/png": "[encoded data removed]",
      "text/plain": [
       "<Figure size 432x288 with 1 Axes>"
      ]
     },
     "metadata": {
      "needs_background": "light"
     },
     "output_type": "display_data"
    }
   ],
   "source": [
    "# Vamos plotar a reta anterior usando python\n",
    "\n",
    "plt.plot([1,2,4],[2,3,3],'o') # Plotando os três pontos\n",
    "\n",
    "x = np.array([0,5]) # Dois valores para plotar a reta\n",
    "y = 2 + (2./7)*x # Valores em y\n",
    "\n",
    "plt.plot(x,y) # Plotando a reta \n",
    "plt.axis([0, 5, 0, 4]) # [xmin, xmax, ymin, ymax]\n",
    "plt.show()"
   ]
  }
 ],
 "metadata": {
  "kernelspec": {
   "display_name": "Python 3",
   "language": "python",
   "name": "python3"
  },
  "language_info": {
   "codemirror_mode": {
    "name": "ipython",
    "version": 3
   },
   "file_extension": ".py",
   "mimetype": "text/x-python",
   "name": "python",
   "nbconvert_exporter": "python",
   "pygments_lexer": "ipython3",
   "version": "3.8.5"
  }
 },
 "nbformat": 4,
 "nbformat_minor": 4
}
