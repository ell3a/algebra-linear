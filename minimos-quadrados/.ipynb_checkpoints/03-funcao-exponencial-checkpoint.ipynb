{
 "cells": [
  {
   "cell_type": "markdown",
   "metadata": {},
   "source": [
    "# Ajuste de Curvas a Uma Lista de Pontos\n",
    "## Método dos Mínimos Quadrados\n",
    "\n",
    "---\n",
    "\n",
    "## Função Exponencial\n",
    "\n",
    "Dada um lista de $n$ ponto no plano $\\mathbb{R}^2$: $(x_1,y_1), (x_2,y_2), \\ldots, (x_n,y_n)$. Um ajuste de uma curva da forma $y(x) = \\alpha + \\beta e^x$ à lista de pontos pode ser obtida, pelo método dos mínimos quadrados, com:\n",
    "$$\n",
    "x = (A^tA)^{-1}(A^tb)\n",
    "$$\n",
    "\n",
    "Onde $A = \\left[ \\begin{matrix} 1 & e^{x_1} \\\\ 1 & e^{x_2} \\\\ \\vdots & \\vdots \\\\ 1 & e^{x_n} \\end{matrix} \\right]$, $b =  \\left[ \\begin{matrix} y_1 \\\\ y_2 \\\\ \\vdots \\\\ y_n \\end{matrix} \\right]$.\n",
    "\n",
    "O vetor $x$, resultado das operações $(A^tA)^{-1}(A^tb)$, tem a forma $x =  \\left[ \\begin{matrix} \\alpha \\\\ \\beta \\end{matrix} \\right]$, onde $\\alpha$ e $\\beta$ são os coeficientes da função exponencial ajustada:\n",
    "$$\n",
    "y(x) = \\alpha + \\beta e^x\n",
    "$$"
   ]
  },
  {
   "cell_type": "markdown",
   "metadata": {},
   "source": [
    "---\n",
    "### Exemplo 1\n",
    "Vamos ajustar uma curva exponencial da forma $y(x) = \\alpha + \\beta e^x$ aos pontos: $(1,1),(3,2),(5,3),(6,5),(7,7)$"
   ]
  },
  {
   "cell_type": "markdown",
   "metadata": {},
   "source": [
    "No [GeoGebra](https://www.geogebra.org/m/ajynvkuz) marcamos os pontos no plano, para termos uma ideia de como será a curva ajustadas aos mesmos."
   ]
  },
  {
   "cell_type": "code",
   "execution_count": 1,
   "metadata": {},
   "outputs": [],
   "source": [
    "# Usando Python para plotar os pontos listados\n",
    "\n",
    "# Importando o pyplot: biblioteca python para plotagem de gráficos\n",
    "from matplotlib import pyplot as plt"
   ]
  },
  {
   "cell_type": "code",
   "execution_count": 2,
   "metadata": {},
   "outputs": [
    {
     "data": {
      "image/png": "[encoded data removed]",
      "text/plain": [
       "<Figure size 432x288 with 1 Axes>"
      ]
     },
     "metadata": {
      "needs_background": "light"
     },
     "output_type": "display_data"
    }
   ],
   "source": [
    "# Eixo x, Eixo y\n",
    "plt.plot([1,3,5,6,7],[1,2,3,5,7],'o') # O argumento 'o' plota os pontos\n",
    "plt.axis([0, 8, 0, 8]) # [xmin, xmax, ymin, ymax]\n",
    "\n",
    "plt.xlabel('x'), plt.ylabel('y') # Rótulos dos eixos x e y\n",
    "plt.grid() # Exibindo a grade do plano\n",
    "\n",
    "plt.show()"
   ]
  },
  {
   "cell_type": "code",
   "execution_count": 3,
   "metadata": {},
   "outputs": [],
   "source": [
    "# Resolvendo a operações x = (A^tA)^(-1)(A^tb)\n",
    "# Importando a biblioteca para trabalha com matrizes e matemática\n",
    "import numpy as np"
   ]
  },
  {
   "cell_type": "code",
   "execution_count": 4,
   "metadata": {},
   "outputs": [
    {
     "data": {
      "text/plain": [
       "(array([[1.00000000e+00, 2.71828000e+00],\n",
       "        [1.00000000e+00, 2.00854964e+01],\n",
       "        [1.00000000e+00, 1.48412660e+02],\n",
       "        [1.00000000e+00, 4.03427165e+02],\n",
       "        [1.00000000e+00, 1.09662799e+03]]),\n",
       " array([[1],\n",
       "        [2],\n",
       "        [3],\n",
       "        [5],\n",
       "        [7]]))"
      ]
     },
     "execution_count": 4,
     "metadata": {},
     "output_type": "execute_result"
    }
   ],
   "source": [
    "# Criando e exibindo as matrizes necessárias para os cálculos\n",
    "\n",
    "# Atribuindo uma aproximação de e à variável e\n",
    "e = 2.71828\n",
    "\n",
    "A = np.array([[1,e**1], [1,e**3], [1,e**5], [1,e**6], [1,e**7]])\n",
    "b = np.array([[1],[2],[3],[5],[7]])\n",
    "\n",
    "A, b"
   ]
  },
  {
   "cell_type": "code",
   "execution_count": 5,
   "metadata": {},
   "outputs": [
    {
     "data": {
      "text/plain": [
       "array([[ 3.34746952e-01, -4.03127033e-04],\n",
       "       [-4.03127033e-04,  1.20604884e-06]])"
      ]
     },
     "execution_count": 5,
     "metadata": {},
     "output_type": "execute_result"
    }
   ],
   "source": [
    "M = A.T # a variável M recebe a tranposta da matriz A\n",
    "M = M.dot(A) # a variável M recebe o protudo MA\n",
    "\n",
    "# usamos o método inv do pacote de algebra linear de numpy para inverter M\n",
    "M = np.linalg.inv(M)\n",
    "\n",
    "M # Exibindo M"
   ]
  },
  {
   "cell_type": "code",
   "execution_count": 6,
   "metadata": {},
   "outputs": [
    {
     "data": {
      "text/plain": [
       "array([[   18.        ],\n",
       "       [10181.65904317]])"
      ]
     },
     "execution_count": 6,
     "metadata": {},
     "output_type": "execute_result"
    }
   ],
   "source": [
    "N = A.T # a variável N recebe a transposta de A\n",
    "N = N.dot(b) # a variável N recebe o produto Nb\n",
    "\n",
    "N # Exibindo N"
   ]
  },
  {
   "cell_type": "code",
   "execution_count": 7,
   "metadata": {},
   "outputs": [
    {
     "data": {
      "text/plain": [
       "array([[1.92094314],\n",
       "       [0.00502329]])"
      ]
     },
     "execution_count": 7,
     "metadata": {},
     "output_type": "execute_result"
    }
   ],
   "source": [
    "# Com as operações realizadas temos\n",
    "# M = (A^tA)^(-1) e N = A^tb\n",
    "\n",
    "# A viável x recebe o produto MN\n",
    "x = M.dot(N)\n",
    "\n",
    "# Exibindo o vetor x\n",
    "x"
   ]
  },
  {
   "cell_type": "markdown",
   "metadata": {},
   "source": [
    " Assim nossa função, com alguns arendodamentos, é da forma\n",
    " \n",
    " $$\n",
    " y=1.921 + 0.005 ℯ^{x}\n",
    " $$\n",
    " \n",
    " Usamos o geogebra para plotar a curva e os pontos.\n",
    " \n",
    " [GeoGebra](https://www.geogebra.org/m/thuykp7m)"
   ]
  },
  {
   "cell_type": "code",
   "execution_count": 8,
   "metadata": {},
   "outputs": [
    {
     "data": {
      "image/png": "[encoded data removed]",
      "text/plain": [
       "<Figure size 432x288 with 1 Axes>"
      ]
     },
     "metadata": {
      "needs_background": "light"
     },
     "output_type": "display_data"
    }
   ],
   "source": [
    "# Usando Python para plotar os pontos e a curva ajustada\n",
    "\n",
    "# Plotando os pontos\n",
    "plt.plot([1,3,5,6,7],[1,2,3,5,7],'o')\n",
    "\n",
    "# Preparo para a plotagem da curva\n",
    "x = np.linspace(0, 8, 1000) # 1000 pontos em [0, 8]\n",
    "y = 1.921 + 0.005*e**x # Calculo dos valores y para cada x\n",
    "\n",
    "# Plotando a curva\n",
    "plt.plot(x,y)\n",
    "\n",
    "# Configurações do Plano\n",
    "plt.axis([0, 8, 0, 8])\n",
    "plt.xlabel('x'), plt.ylabel('y')\n",
    "plt.grid()\n",
    "\n",
    "plt.show()"
   ]
  },
  {
   "cell_type": "markdown",
   "metadata": {},
   "source": [
    "---\n",
    "\n",
    "## Algoritmo para ajuste de uma curva exponencial a uma lista de pontos\n"
   ]
  },
  {
   "cell_type": "code",
   "execution_count": 9,
   "metadata": {},
   "outputs": [],
   "source": [
    "'''\n",
    "Método para o ajuste da curva de uma Função Exponencial a uma lista de pontos\n",
    "Mínimos Quadrados\n",
    "\n",
    "Observações:\n",
    "--> Os argumentos da função são duas listas de mesmo tamanho;\n",
    "--> A primeira lista com as coordenadas x dos pontos que queremos ajustar;\n",
    "--> E a segunda lista com as coordenadas y dos pontos.\n",
    "\n",
    "A função retorna um vetor x = [a,b]^T, onde y = a + b*e^x é a função exponencial.\n",
    "''' \n",
    "\n",
    "def exponencial_minimos_quadrados(X,Y):\n",
    "    import numpy as np\n",
    "    from numpy.linalg import inv\n",
    "    \n",
    "    n = len(X)\n",
    "    \n",
    "    if len(X) != len(Y):\n",
    "        return 'Dados de entrada incorretos.'\n",
    "        \n",
    "    else:\n",
    "        A = np.zeros((n,2))\n",
    "        v = np.zeros((n,1))\n",
    "        \n",
    "        for i in range(len(X)):\n",
    "            v[i] = Y[i]\n",
    "            A[i][0] = 1\n",
    "            A[i][1] = (np.e)**(X[i])\n",
    "        \n",
    "        At = np.transpose(A)\n",
    "\n",
    "        M = np.dot(At,A)\n",
    "        N = np.dot(At,v)\n",
    "        \n",
    "        Mi = inv(M)\n",
    "        x = np.dot(Mi,N)\n",
    "\n",
    "        return x"
   ]
  },
  {
   "cell_type": "code",
   "execution_count": 10,
   "metadata": {},
   "outputs": [
    {
     "name": "stdout",
     "output_type": "stream",
     "text": [
      "[[1.92094389]\n",
      " [0.00502327]]\n"
     ]
    }
   ],
   "source": [
    "# Aplicação do método para a lista de pontos\n",
    "# (1,1),(3,2),(5,3),(6,5),(7,7)\n",
    "\n",
    "X = [1,3,5,6,7]\n",
    "Y = [1,2,3,5,7]\n",
    "\n",
    "print(exponencial_minimos_quadrados(X,Y))"
   ]
  },
  {
   "cell_type": "code",
   "execution_count": 11,
   "metadata": {},
   "outputs": [
    {
     "name": "stdout",
     "output_type": "stream",
     "text": [
      "[[0.74419094]\n",
      " [0.11848373]]\n"
     ]
    }
   ],
   "source": [
    "# Aplicando o método para outra lista de pontos\n",
    "# (1.5,1), (2.5,1.8), (3,4), (4,7)\n",
    "\n",
    "X = [1.5,2.5,3,4]\n",
    "Y = [1,1.8,4,7]\n",
    "\n",
    "c = exponencial_minimos_quadrados(X,Y) # Vetor coeficientes\n",
    "print(c)"
   ]
  },
  {
   "cell_type": "code",
   "execution_count": 12,
   "metadata": {},
   "outputs": [
    {
     "data": {
      "image/png": "[encoded data removed]",
      "text/plain": [
       "<Figure size 432x288 with 1 Axes>"
      ]
     },
     "metadata": {
      "needs_background": "light"
     },
     "output_type": "display_data"
    }
   ],
   "source": [
    "# Plotando os pontos e a curva ajustada\n",
    "from matplotlib import pyplot as plt\n",
    "import numpy as np\n",
    "\n",
    "# Plotando os pontos\n",
    "plt.plot(X,Y,'o')\n",
    "\n",
    "x = np.linspace(0, 8, 1000) \n",
    "y = c[0] + c[1]*(np.e)**x # Calculo dos valores y para cada x\n",
    "\n",
    "# Plotando a curva\n",
    "plt.plot(x,y)\n",
    "\n",
    "# Configurações do Plano\n",
    "plt.axis([0, 8, 0, 8])\n",
    "plt.xlabel('x'), plt.ylabel('y')\n",
    "plt.grid()\n",
    "\n",
    "plt.show()"
   ]
  }
 ],
 "metadata": {
  "kernelspec": {
   "display_name": "Python 3",
   "language": "python",
   "name": "python3"
  },
  "language_info": {
   "codemirror_mode": {
    "name": "ipython",
    "version": 3
   },
   "file_extension": ".py",
   "mimetype": "text/x-python",
   "name": "python",
   "nbconvert_exporter": "python",
   "pygments_lexer": "ipython3",
   "version": "3.8.5"
  }
 },
 "nbformat": 4,
 "nbformat_minor": 4
}
