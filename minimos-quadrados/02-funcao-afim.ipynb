{
 "cells": [
  {
   "cell_type": "markdown",
   "metadata": {},
   "source": [
    "# Ajuste de Curvas a Uma Lista de Pontos\n",
    "## Método dos Mínimos Quadrados\n",
    "\n",
    "---\n",
    "\n",
    "## Função Afim\n",
    "\n",
    "Dados uma lista de Pontos $P_1 =(x_1,y_2)$, $P_2 =(x_2,y_2)$, $\\ldots$ e $P_n =(x_n,y_n)$. Um ajuste, por uma reta $y = \\alpha + \\beta y$, dos pontos dados por de ser obtida pela expressão matricial:\n",
    "\n",
    "$$x =(A^T \\times A)^{-1} (A^T \\times v).$$\n",
    "\n",
    "Onde\n",
    "\n",
    "$A = \\begin{bmatrix}\n",
    "   1 & x_1 \\\\\n",
    "   1 & x_2 \\\\\n",
    "   \\vdots & \\vdots \\\\\n",
    "   1 & x_n\n",
    "  \\end{bmatrix}\n",
    "\\mbox{, }\n",
    "v = \\begin{bmatrix}\n",
    "   y_1 \\\\\n",
    "   y_2 \\\\\n",
    "   \\vdots \\\\\n",
    "   y_n\n",
    "  \\end{bmatrix}\n",
    "\\mbox{ e }\n",
    "x = \\begin{bmatrix}\n",
    "   \\alpha\\\\\n",
    "   \\beta\n",
    "  \\end{bmatrix}\n",
    "$"
   ]
  },
  {
   "cell_type": "code",
   "execution_count": 1,
   "metadata": {},
   "outputs": [],
   "source": [
    "''' \n",
    "Método de ajuste de uma reta y = a + bx, por mínimos quadrados, \n",
    "a uma lista de pontos no plano cartesiano.\n",
    "\n",
    "Observações:\n",
    "--> os argumentos da função são duas listas de mesmo tamanho;\n",
    "--> a primeira lista com as coordenadas x dos pontos da lista;\n",
    "--> e a segunda lista com as coordenadas y dos pontos da lista;.\n",
    "\n",
    "A função retorna um vetor x = [a,b], onde y = a + bx é a equação da reta\n",
    "ajusta à lista de pontos.\n",
    "'''\n",
    "\n",
    "def reta_minimos_quadrados(X,Y):\n",
    "    import numpy as np\n",
    "    from numpy.linalg import inv\n",
    "    \n",
    "    n = len(X)\n",
    "    \n",
    "    if len(X) != len(Y):\n",
    "        return 'Dados de entrada incorretos.'\n",
    "        \n",
    "    else:\n",
    "        A = np.zeros((n,2))\n",
    "        v = np.zeros((n,1))\n",
    "        \n",
    "        for i in range(len(X)):\n",
    "            v[i] = Y[i]\n",
    "            A[i][0] = 1\n",
    "            A[i][1] = X[i]\n",
    "        \n",
    "        At = np.transpose(A)\n",
    "\n",
    "        M = np.dot(At,A)\n",
    "        N = np.dot(At,v)\n",
    "        \n",
    "        Mi = inv(M)\n",
    "        x = np.dot(Mi,N)\n",
    "\n",
    "        return x"
   ]
  },
  {
   "cell_type": "markdown",
   "metadata": {},
   "source": [
    "**Exemplo 1:** Ajustar por Mínimos quadrados, uma reta à lista de pontos\n",
    "\n",
    "$$(-6,1),(-4,2),(1,4),(4,3)$$\n",
    "\n",
    "X = [-6,-4,1,4,6]\n",
    "Y = [1,2,4,3,5]"
   ]
  }
 ],
 "metadata": {
  "kernelspec": {
   "display_name": "Python 3",
   "language": "python",
   "name": "python3"
  },
  "language_info": {
   "codemirror_mode": {
    "name": "ipython",
    "version": 3
   },
   "file_extension": ".py",
   "mimetype": "text/x-python",
   "name": "python",
   "nbconvert_exporter": "python",
   "pygments_lexer": "ipython3",
   "version": "3.8.5-final"
  }
 },
 "nbformat": 4,
 "nbformat_minor": 4
}